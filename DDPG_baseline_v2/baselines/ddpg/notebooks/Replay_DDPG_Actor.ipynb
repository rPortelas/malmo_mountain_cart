{
 "cells": [
  {
   "cell_type": "code",
   "execution_count": 1,
   "metadata": {},
   "outputs": [],
   "source": [
    "import numpy as np\n",
    "import pickle\n",
    "import gym\n",
    "from gym.wrappers import Monitor\n",
    "import tensorflow as tf\n",
    "import os\n",
    "import sys\n",
    "os.environ['TF_CPP_MIN_LOG_LEVEL']='3'"
   ]
  },
  {
   "cell_type": "code",
   "execution_count": 2,
   "metadata": {},
   "outputs": [],
   "source": [
    "env_id = 'HalfCheetah-v1'\n",
    "normalize_obs = True\n",
    "# 'HalfCheetah-v1'\n",
    "# 'Hopper-v1'\n",
    "# 'MountainCarContinuous-v0'\n",
    "# 'Reacher-v1'\n",
    "save_recording = False\n",
    "path_actors = '/media/flowers/3C3C66F13C66A59C/data_save/ddpg_study_baseline/data/HalfCheetah-v1/run_DDPG_standard_Memory_1M/60/tf_save/'\n",
    "meta_file = 'best_actor_step1922000_score5063.meta'"
   ]
  },
  {
   "cell_type": "code",
   "execution_count": 3,
   "metadata": {},
   "outputs": [],
   "source": [
    "# initialize environment\n",
    "try:\n",
    "    env = gym.make(env_id)\n",
    "except NotImplementedError:\n",
    "    print(env_id + ' does not refer to a gym environment')\n",
    "\n",
    "if save_recording:\n",
    "    saving_vid = '/media/flowers/3C3C66F13C66A59C/data_save/gym_recording/ddpg_cheetah_drop/'+weight_file[:-5]\n",
    "    env = Monitor(env,saving_vid,force=True)\n",
    "# env.directory = '/media/flowers/3C3C66F13C66A59C/data_save/gym_recording/ddp_cheetah_drop'\n",
    "# extract space\n",
    "action_space = np.array([env.action_space.low, env.action_space.high]).T\n",
    "observation_space = np.array([env.observation_space.low, env.observation_space.high]).T\n",
    "if len(np.array(env.reward_range).shape)==1:\n",
    "    reward_space = np.array(env.reward_range).reshape(1,-1)\n",
    "else:\n",
    "    eward_space = np.array(env.reward_range)\n",
    "\n",
    "reward_dim = reward_space.shape[0]\n",
    "observation_dim = observation_space.shape[0]\n",
    "action_dim = action_space.shape[0]\n",
    "state_size = observation_dim"
   ]
  },
  {
   "cell_type": "code",
   "execution_count": 6,
   "metadata": {},
   "outputs": [
    {
     "name": "stdout",
     "output_type": "stream",
     "text": [
      "/media/flowers/3C3C66F13C66A59C/data_save/ddpg_study_baseline/data/HalfCheetah-v1/run_DDPG_standard_Memory_1M/60/tf_save/\n",
      "INFO:tensorflow:Restoring parameters from /media/flowers/3C3C66F13C66A59C/data_save/ddpg_study_baseline/data/HalfCheetah-v1/run_DDPG_standard_Memory_1M/60/tf_save/best_actor_step1922000_score5063\n",
      "5234.524665577567\n",
      "5234.524665577567\n"
     ]
    }
   ],
   "source": [
    "with tf.Session() as sess:\n",
    "    init = tf.global_variables_initializer()\n",
    "    sess.run(init)\n",
    "    saver = tf.train.import_meta_graph(path_actors+meta_file)\n",
    "    print(path_actors)\n",
    "    saver.restore(sess,tf.train.latest_checkpoint(path_actors))\n",
    "    graph = tf.get_default_graph()\n",
    "    obs0 = graph.get_tensor_by_name(\"obs0:0\")\n",
    "    actor_tf = graph.get_tensor_by_name(\"actor/Tanh:0\")\n",
    "    \n",
    "    n_tests = 1\n",
    "    score = np.zeros([n_tests])\n",
    "    for i in range(n_tests):\n",
    "        done = False\n",
    "        observations = [env.reset()]\n",
    "        actions = []\n",
    "        rewards = []\n",
    "        while not done:\n",
    "            last_obs = observations[-1].squeeze()\n",
    "            feed_dict = {obs0: [last_obs]}\n",
    "            action = sess.run(actor_tf, feed_dict=feed_dict)\n",
    "            actions.append(action)\n",
    "            env.render()\n",
    "            out = env.step(actions[-1])\n",
    "            observations.append(out[0])\n",
    "            rewards.append(out[1])\n",
    "            done = out[2]    \n",
    "        score[i] = sum(rewards)\n",
    "    print(score.max())\n",
    "    print(score.min())"
   ]
  },
  {
   "cell_type": "code",
   "execution_count": 5,
   "metadata": {},
   "outputs": [
    {
     "data": {
      "text/plain": [
       "17"
      ]
     },
     "execution_count": 5,
     "metadata": {},
     "output_type": "execute_result"
    }
   ],
   "source": [
    "observation_dim"
   ]
  },
  {
   "cell_type": "code",
   "execution_count": null,
   "metadata": {},
   "outputs": [],
   "source": [
    "# score = sum(rewards)\n",
    "print(score.max())\n",
    "print(score.min()"
   ]
  }
 ],
 "metadata": {
  "kernelspec": {
   "display_name": "Python 3",
   "language": "python",
   "name": "python3"
  },
  "language_info": {
   "codemirror_mode": {
    "name": "ipython",
    "version": 3
   },
   "file_extension": ".py",
   "mimetype": "text/x-python",
   "name": "python",
   "nbconvert_exporter": "python",
   "pygments_lexer": "ipython3",
   "version": "3.5.3"
  }
 },
 "nbformat": 4,
 "nbformat_minor": 2
}
